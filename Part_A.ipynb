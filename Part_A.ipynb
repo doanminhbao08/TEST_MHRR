{
 "cells": [
  {
   "cell_type": "markdown",
   "metadata": {},
   "source": [
    "# Problem 1"
   ]
  },
  {
   "cell_type": "markdown",
   "metadata": {},
   "source": [
    "## Giải thuật\n",
    "Excel sử dụng hệ thống chữ cái tương tự hệ đếm cơ số 26 để biểu diễn tên cột, tương ứng với 26 chữ cái trong tiếng Anh\n",
    "* 1 -> A\n",
    "* 2 -> B\n",
    "* 27 -> AA\n",
    "...\n",
    "\n",
    "Logic của hệ đếm như sau: <br>\n",
    "Các cột từ A đến Z là các ký tự đơn. <br>\n",
    "Khi vượt qua Z, chúng ta \"tăng bậc\" thành một ký tự mới, bắt đầu từ AA, AB, ..., cho đến AZ.<br>\n",
    "Tiếp theo là BA, BB, ..., cho đến BZ.<br>\n",
    "Quá trình này tiếp tục, tạo ra các chuỗi mà các chữ cái đầu tiên sẽ luôn là A, B,... cho đến khi hết các ký tự. <br>\n",
    "\n",
    "Để giúp bạn X, em sẽ xây dựng một chương trình giúp bạn chuyển từ index của cột sang tên cột trong Excel.<br>\n",
    "Chương trình này cần 2 yếu tố:\n",
    "* Hàm logic chuyển từ số cột (index) cơ số 10 về dạng cơ số 26 (từ 0 -25)<br>\n",
    "Ví dụ ```703 -> 111```\n",
    "Cách tính là chia cho 26 đến khi thương bằng 0 thì viết ngược từ dưới lên, ta sẽ được giá trị tại cơ số 26.\n",
    "* Hàm chuyển từ dạng cơ số 26 sang chữ cái (tên cột trong Excel)<br>\n",
    "Ví dụ: ```111 -> AAA```<br>\n",
    "Có thể dụng hàm ```chr(n)``` trong của python với ```chr(65) = A, chr(66) = B ...```<br>\n",
    "Vậy tại cơ số 26, ```x = n``` thì ```x = chr(n+65)```\n"
   ]
  },
  {
   "cell_type": "markdown",
   "metadata": {},
   "source": [
    "## Chương trình"
   ]
  },
  {
   "cell_type": "code",
   "execution_count": 115,
   "metadata": {},
   "outputs": [],
   "source": [
    "def number_to_excel_column(n):\n",
    "    column_name = \"\"\n",
    "    while n > 0:\n",
    "        # Hàm chia giữ lại phần dư, đại diện cho hàm logic chuyển cơ số đã nêu trên\n",
    "        # Chia cho (n-1) vì cơ số 26 bắt đầu từ 0\n",
    "        n, remainder = divmod(n - 1, 26) \n",
    "        \n",
    "        # Hàm chuyển từ cơ số 26 sang chữ cái \n",
    "        # Phần chr(65 + remainder) đứng trước trong phép cộng đại diện cho việc viết ngược số dư từ dưới lên trên\n",
    "        column_name = chr(65 + remainder) + column_name\n",
    "    return column_name\n"
   ]
  },
  {
   "cell_type": "code",
   "execution_count": 116,
   "metadata": {},
   "outputs": [
    {
     "name": "stdout",
     "output_type": "stream",
     "text": [
      "Cột 703 -> AAA\n"
     ]
    }
   ],
   "source": [
    "index = 703 # Bạn X nhập input ở đây\n",
    "print(f\"Cột {index} -> {number_to_excel_column(index)}\")"
   ]
  },
  {
   "cell_type": "markdown",
   "metadata": {},
   "source": [
    "# Problem 2"
   ]
  },
  {
   "cell_type": "markdown",
   "metadata": {},
   "source": [
    "## Giải thuật"
   ]
  },
  {
   "cell_type": "markdown",
   "metadata": {},
   "source": [
    "Đề bài có ví dụ đề xuất thuật toán giúp bạn Y tính nhanh được số chữ in riêng lẻ và thừa.<br>\n",
    "Biển qung céoi -> Biển quảng cáo: Cần in thêm 1 chữ, thay thế 1 chữ, và thừa 1 chữ -> Tổng số chữ in riêng lẻ và thừa là 3.\n",
    "\n",
    "Với nghiệp vụ của bạn Y, em đề xuất một giải thuật tốt hơn.<br>\n",
    "Có thể sẽ có trường hợp chữ in thừa được dùng cho một chữ in thiếu khác.<br>\n",
    "Ví dụ: Bạn Y in ra 2 từ \"coé\" ( từ gốc là \"cáo\") và \"boá\" (từ gốc là \"béo\").<br>\n",
    "Thiếu chữ \"a\" thừa chữ \"e\" trong  \"coé\" và thiếu chữ \"e\" thừa chữ \"a\" trong \"boá\". <br>\n",
    "Vậy tổng số chữ in riêng lẻ và thừa là 4 chữ (cần in thêm 2 chữ và thừa 2 chữ theo định nghĩa).<br>\n",
    "Vậy cần bỏ đi 2 chữ và in thêm 2 chữ.<br>\n",
    "Tổng cộng lãng phí 4 chữ.<br>\n",
    "Ngoài ra, việc quan tâm đến tổng số chữ in riêng lẻ và thừa cũng chưa giúp bạn Y giải quyết vấn đề. <br>\n",
    "Chỉ số này có lẽ chỉ lên nói lên việc bạn Y mắc lỗi nhiều như thế nào.\n",
    "\n",
    "Thuật toán em đề xuất là chỉ quan tâm đến tổng số ký tự cần thiết trong \"hàng nghìn chữ để dán lên biển quảng cáo với các thông điệp khác nhau\".<br>\n",
    "Sau đó kiểm tra lại các ký tự đã in ra<br>\n",
    "Ký tự nào thiếu bao nhiêu thì in thêm cho đủ, sau đó tiến hành dán lên biển quảng cáo.<br>\n",
    "Với giải thuật này, trong tình huống trên, chữ \"a\" và chữ \"e\" đều được tận dụng, tổng lãng phí là 0 chữ.\n",
    "\n"
   ]
  },
  {
   "cell_type": "markdown",
   "metadata": {},
   "source": [
    "## Chương trình"
   ]
  },
  {
   "cell_type": "markdown",
   "metadata": {},
   "source": [
    "Trong thực tế, các chữ cái là các chữ cái tiếng Việt, song dấu của các chữ cái như \"ô, ơ, â\" hay các dấu thanh như \"huyền\", \"ngã\", \"hỏi\", ... sẽ được in tách biệt với chữ cái. <br>\n",
    "Đối với mắt người, hay đối với bạn Y để làm tác vụ phân biệt, các dấu này tương đương một ký tự, giống như các chữ cái. <br>\n",
    "Vì vậy, với chương trình demo này, em sẽ chỉ xử lý với các chữ cái tiếng anh, để làm cho chương trình đơn giản <br> \n",
    "Unicode không mã hóa chữ \"à\" theo logic \"à\" = \"a\" + \"dấu huyền\" mà tạo một mã unicode cho chữ \"à\", trái với logic phân biệt của mắt người ở trên nên sẽ tạo sự phức tạp cho chương trình demo nếu cố xử lý các dấu. <br>\n",
    "Biển quảng cáo gồm cả chữ hoa và chữ thường, vì thế cần coi \"a\" và \"A\" là 2 ký tự khác nhau. Kiểu dữ liệu string trong Python có phân biệt sự khác nhau này."
   ]
  },
  {
   "cell_type": "markdown",
   "metadata": {},
   "source": [
    "Bạn Y được giao in các từ ở ```list1```, sau khi in thì được các từ ở ```list2```. "
   ]
  },
  {
   "cell_type": "code",
   "execution_count": 117,
   "metadata": {},
   "outputs": [],
   "source": [
    "list1 = [\"hello\", \"world\", \"python\", \"programming\", \"MBBANK\", \"QQQQQ\"] # list1 là các từ mà bạn Y được giao để in\n",
    "list2 = [\"helo\", \"BBBBwrld\", \"pyhonaaaaa\", \"prgramminguuuuuuuu\", \"bmbkank\", \"qqqq\"] # List2 là các từ mà bạn Y đã in ra"
   ]
  },
  {
   "cell_type": "markdown",
   "metadata": {},
   "source": [
    "Đầu tiên em tạo ra một list các ký tự có ở cả 2 list <br>\n",
    "Bạn Y có thể sử dụng chương trình của em để liệt kê các ký tự trong các từ được giao để in;<br>\n",
    "Sau đó xếp chồng các ký tự giống nhau được in ra để liệt kê các ký tự được in ra;<br>\n",
    "Từ đó hoàn thành tác vụ nêu trên được giả lập trong code."
   ]
  },
  {
   "cell_type": "code",
   "execution_count": 118,
   "metadata": {},
   "outputs": [
    {
     "name": "stdout",
     "output_type": "stream",
     "text": [
      "Mảng chứa các ký tự duy nhất từ cả 2 danh sách:\n",
      "['N', 'w', 'i', 'a', 'M', 'B', 'd', 'l', 'u', 'A', 'y', 'e', 'n', 'K', 'k', 'r', 'Q', 'b', 'm', 't', 'q', 'h', 'g', 'p', 'o']\n"
     ]
    }
   ],
   "source": [
    "# Tạo ra một mảng gồm ký tự ở cả 2 list\n",
    "unique_chars = set(\"\".join(list1) + \"\".join(list2))\n",
    "\n",
    "# Chuyển set thành danh sách\n",
    "unique_chars_list = list(unique_chars)\n",
    "\n",
    "print(\"Mảng chứa các ký tự duy nhất từ cả 2 danh sách:\")\n",
    "print(unique_chars_list)"
   ]
  },
  {
   "cell_type": "markdown",
   "metadata": {},
   "source": [
    "Sau đó em đếm số ký tự trong mỗi list<br>\n",
    "Tương tự như trên, bạn Y sử dụng chương trình để đếm các ký tự trong các từ được giao để in;<br>\n",
    "Sau đó đếm các ký tự được in ra trong mỗi chồng đã xếp ở trên;<br>\n",
    "Ghi lại số ký tự của cả 2 list vào một cuốn sổ hoặc file Excel.<br>\n",
    "Nội dung sẽ có dạng giống như kết quả của block code bên dưới."
   ]
  },
  {
   "cell_type": "code",
   "execution_count": 119,
   "metadata": {},
   "outputs": [
    {
     "name": "stdout",
     "output_type": "stream",
     "text": [
      "{'N': 1, 'w': 1, 'i': 1, 'a': 1, 'M': 1, 'B': 2, 'd': 1, 'l': 3, 'u': 0, 'A': 1, 'y': 1, 'e': 1, 'n': 2, 'K': 1, 'k': 0, 'r': 3, 'Q': 5, 'b': 0, 'm': 2, 't': 1, 'q': 0, 'h': 2, 'g': 2, 'p': 2, 'o': 4}\n",
      "{'N': 0, 'w': 1, 'i': 1, 'a': 7, 'M': 0, 'B': 4, 'd': 1, 'l': 2, 'u': 8, 'A': 0, 'y': 1, 'e': 1, 'n': 3, 'K': 0, 'k': 2, 'r': 3, 'Q': 0, 'b': 2, 'm': 3, 't': 0, 'q': 4, 'h': 2, 'g': 2, 'p': 2, 'o': 2}\n"
     ]
    }
   ],
   "source": [
    "from collections import Counter\n",
    "\n",
    "# Hàm Counter để đếm số các ký tự trong list1\n",
    "result1 = Counter(\"\".join(list1))\n",
    "\n",
    "# Set giá trị 0 cho những ký tự có ở cả 2 list mà không có trong list1\n",
    "result_final1 = {char: result1.get(char, 0) for char in unique_chars}\n",
    "\n",
    "# Làm tương tự với list2\n",
    "result2 = Counter(\"\".join(list2))\n",
    "result_final2 = {char: result2.get(char, 0) for char in unique_chars}\n",
    "\n",
    "\n",
    "print(result_final1)\n",
    "print(result_final2)"
   ]
  },
  {
   "cell_type": "markdown",
   "metadata": {},
   "source": [
    "Để tìm số lượng các ký tự bị thiếu để in thêm, em lấy số lượng ký tự list1 trừ cho số lượng ký tự list2.<br>\n",
    "Bạn Y thực hiện tác vụ tương tự"
   ]
  },
  {
   "cell_type": "code",
   "execution_count": 120,
   "metadata": {},
   "outputs": [
    {
     "name": "stdout",
     "output_type": "stream",
     "text": [
      "{'N': 1, 'w': 0, 'i': 0, 'a': -6, 'M': 1, 'B': -2, 'd': 0, 'l': 1, 'u': -8, 'A': 1, 'y': 0, 'e': 0, 'n': -1, 'K': 1, 'k': -2, 'r': 0, 'Q': 5, 'b': -2, 'm': -1, 't': 1, 'q': -4, 'h': 0, 'g': 0, 'p': 0, 'o': 2}\n"
     ]
    }
   ],
   "source": [
    "\n",
    "diff_result = {char: result_final1.get(char, 0) - result_final2.get(char, 0) for char in unique_chars}\n",
    "\n",
    "print(diff_result)"
   ]
  },
  {
   "cell_type": "code",
   "execution_count": 121,
   "metadata": {},
   "outputs": [
    {
     "data": {
      "text/html": [
       "<div>\n",
       "<style scoped>\n",
       "    .dataframe tbody tr th:only-of-type {\n",
       "        vertical-align: middle;\n",
       "    }\n",
       "\n",
       "    .dataframe tbody tr th {\n",
       "        vertical-align: top;\n",
       "    }\n",
       "\n",
       "    .dataframe thead th {\n",
       "        text-align: right;\n",
       "    }\n",
       "</style>\n",
       "<table border=\"1\" class=\"dataframe\">\n",
       "  <thead>\n",
       "    <tr style=\"text-align: right;\">\n",
       "      <th></th>\n",
       "      <th>0</th>\n",
       "      <th>1</th>\n",
       "      <th>2</th>\n",
       "      <th>3</th>\n",
       "      <th>4</th>\n",
       "      <th>5</th>\n",
       "      <th>6</th>\n",
       "      <th>7</th>\n",
       "      <th>8</th>\n",
       "      <th>9</th>\n",
       "      <th>10</th>\n",
       "      <th>11</th>\n",
       "      <th>12</th>\n",
       "      <th>13</th>\n",
       "      <th>14</th>\n",
       "      <th>15</th>\n",
       "      <th>16</th>\n",
       "      <th>17</th>\n",
       "      <th>18</th>\n",
       "      <th>19</th>\n",
       "      <th>20</th>\n",
       "      <th>21</th>\n",
       "      <th>22</th>\n",
       "      <th>23</th>\n",
       "      <th>24</th>\n",
       "    </tr>\n",
       "  </thead>\n",
       "  <tbody>\n",
       "    <tr>\n",
       "      <th>Character</th>\n",
       "      <td>N</td>\n",
       "      <td>w</td>\n",
       "      <td>i</td>\n",
       "      <td>a</td>\n",
       "      <td>M</td>\n",
       "      <td>B</td>\n",
       "      <td>d</td>\n",
       "      <td>l</td>\n",
       "      <td>u</td>\n",
       "      <td>A</td>\n",
       "      <td>y</td>\n",
       "      <td>e</td>\n",
       "      <td>n</td>\n",
       "      <td>K</td>\n",
       "      <td>k</td>\n",
       "      <td>r</td>\n",
       "      <td>Q</td>\n",
       "      <td>b</td>\n",
       "      <td>m</td>\n",
       "      <td>t</td>\n",
       "      <td>q</td>\n",
       "      <td>h</td>\n",
       "      <td>g</td>\n",
       "      <td>p</td>\n",
       "      <td>o</td>\n",
       "    </tr>\n",
       "    <tr>\n",
       "      <th>Difference</th>\n",
       "      <td>1</td>\n",
       "      <td>0</td>\n",
       "      <td>0</td>\n",
       "      <td>-6</td>\n",
       "      <td>1</td>\n",
       "      <td>-2</td>\n",
       "      <td>0</td>\n",
       "      <td>1</td>\n",
       "      <td>-8</td>\n",
       "      <td>1</td>\n",
       "      <td>0</td>\n",
       "      <td>0</td>\n",
       "      <td>-1</td>\n",
       "      <td>1</td>\n",
       "      <td>-2</td>\n",
       "      <td>0</td>\n",
       "      <td>5</td>\n",
       "      <td>-2</td>\n",
       "      <td>-1</td>\n",
       "      <td>1</td>\n",
       "      <td>-4</td>\n",
       "      <td>0</td>\n",
       "      <td>0</td>\n",
       "      <td>0</td>\n",
       "      <td>2</td>\n",
       "    </tr>\n",
       "  </tbody>\n",
       "</table>\n",
       "</div>"
      ],
      "text/plain": [
       "           0  1  2   3  4   5  6  7   8  9  10 11  12 13  14 15 16  17  18 19  \\\n",
       "Character   N  w  i   a  M   B  d  l   u  A  y  e   n  K   k  r  Q   b   m  t   \n",
       "Difference  1  0  0  -6  1  -2  0  1  -8  1  0  0  -1  1  -2  0  5  -2  -1  1   \n",
       "\n",
       "            20 21 22 23 24  \n",
       "Character    q  h  g  p  o  \n",
       "Difference  -4  0  0  0  2  "
      ]
     },
     "execution_count": 121,
     "metadata": {},
     "output_type": "execute_result"
    }
   ],
   "source": [
    "# Hiển thị dễ nhin hơn với DataFrame\n",
    "import pandas as pd\n",
    "df_diff = pd.DataFrame(list(diff_result.items()), columns=['Character', 'Difference'])\n",
    "df_diff = df_diff.T\n",
    "pd.set_option('display.max_columns', None)\n",
    "df_diff"
   ]
  },
  {
   "cell_type": "markdown",
   "metadata": {},
   "source": [
    "Kết quả ở trên có thể sử dụng như sau: \n",
    "* Các ký tự có giá trị ```Difference``` dương là các ký tự cần in thêm số lượng tương ứng.\n",
    "* Các ký tự có giá trị ```Difference``` bằng 0 là các ký tự đã đủ.\n",
    "* Các ký tự  có giá trị ```Difference``` âm là các ký tự được in thừa với số lượng tương ứng (```abs(Difference)```).\n",
    "\n",
    "Có thể không cần quan tâm đến các ký tự được in thừa vì nghiệp vụ sẽ là dán xong hết, còn thừa mới bỏ đi.<br>\n",
    "Tuy nhiên nắm được số lượng thừa sẽ có tác dụng trong trường hợp giữ lại để sử dụng cho ngày hôm sau.<br>\n",
    "Qua đó ta sẽ không lãng phí các ký tự được in thừa.\n",
    "\n",
    "Vậy bạn Y đã có một giải thuật giúp bạn giải quyết vấn đề về việc in ra các ký tự."
   ]
  }
 ],
 "metadata": {
  "kernelspec": {
   "display_name": "Python 3",
   "language": "python",
   "name": "python3"
  },
  "language_info": {
   "codemirror_mode": {
    "name": "ipython",
    "version": 3
   },
   "file_extension": ".py",
   "mimetype": "text/x-python",
   "name": "python",
   "nbconvert_exporter": "python",
   "pygments_lexer": "ipython3",
   "version": "3.12.2"
  }
 },
 "nbformat": 4,
 "nbformat_minor": 2
}
